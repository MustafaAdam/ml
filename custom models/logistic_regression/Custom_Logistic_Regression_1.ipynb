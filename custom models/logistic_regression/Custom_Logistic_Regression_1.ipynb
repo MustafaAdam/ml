{
 "cells": [
  {
   "cell_type": "code",
   "execution_count": 27,
   "metadata": {
    "_kg_hide-input": true,
    "_kg_hide-output": true,
    "execution": {
     "iopub.execute_input": "2025-08-02T02:48:17.618864Z",
     "iopub.status.busy": "2025-08-02T02:48:17.618053Z",
     "iopub.status.idle": "2025-08-02T02:48:17.626689Z",
     "shell.execute_reply": "2025-08-02T02:48:17.625840Z",
     "shell.execute_reply.started": "2025-08-02T02:48:17.618834Z"
    },
    "trusted": true
   },
   "outputs": [
    {
     "data": {
      "text/html": [
       "\n",
       "<style>\n",
       "  /* Overall font and background */\n",
       "\n",
       "\n",
       "  /* Container */\n",
       "  .notes-container {\n",
       "    margin: 2em auto;\n",
       "    max-width: 900px;\n",
       "  }\n",
       "\n",
       "  /* Cards styled like parchment */\n",
       "  .note-card {\n",
       "    background: #fbf8f1; /* very pale parchment */\n",
       "    border: 1px solid #d3c9b7;\n",
       "    border-radius: 14px;\n",
       "    padding: 2em 2.5em;\n",
       "    margin-bottom: 2.5em;\n",
       "    box-shadow: 0 3px 10px rgba(115,100,81,0.1);\n",
       "    transition: box-shadow 0.3s ease;\n",
       "  }\n",
       "  .note-card:hover {\n",
       "    box-shadow: 0 7px 22px rgba(115,100,81,0.15);\n",
       "  }\n",
       "\n",
       "  /* Global headings outside cards */\n",
       "h1 {\n",
       "  font-family: 'Georgia', serif;\n",
       "  font-size: 2.8em;\n",
       "  font-weight: 700;\n",
       "  color: #4b4636; /* dark olive-brown */\n",
       "  margin-top: 0;\n",
       "  margin-bottom: 0.8em;\n",
       "  border-bottom: 3px solid #c1bfae; /* soft beige underline */\n",
       "  padding: 1.5em 2em 0.8em 2em; /* top, right, bottom, left */\n",
       "  background-color: #fbf8f1; /* same as note-card background */\n",
       "  border: 1px solid #d3c9b7;\n",
       "  border-radius: 14px;\n",
       "  box-shadow: 0 3px 10px rgba(115,100,81,0.1);\n",
       "}\n",
       "\n",
       "  h2 {\n",
       "    font-family: 'Georgia', serif;\n",
       "    font-size: 2.1em;\n",
       "    font-weight: 600;\n",
       "    color: #5a533d; /* muted olive-green */\n",
       "    margin-top: 0;\n",
       "    margin-bottom: 0.7em;\n",
       "    border-bottom: 2px solid #d3c9b7; /* lighter beige underline */\n",
       "    padding-bottom: 0.3em;\n",
       "  }\n",
       "\n",
       "  /* Headings inside cards use h3 */\n",
       "  .note-card h3 {\n",
       "    font-family: 'Georgia', serif;\n",
       "    font-size: 1.6em;\n",
       "    font-weight: 600;\n",
       "    color: #5a533d; /* muted olive-green */\n",
       "    margin-top: 0;\n",
       "    margin-bottom: 0.75em;\n",
       "    border-bottom: 2px solid #d3c9b7;\n",
       "    padding-bottom: 0.25em;\n",
       "  }\n",
       "\n",
       "  /* Paragraph text */\n",
       "  .note-card p {\n",
       "    color: #4c4b44;\n",
       "    font-size: 15px;\n",
       "    margin-bottom: 1.3em;\n",
       "  }\n",
       "\n",
       "  /* Lists */\n",
       "  .note-card ul {\n",
       "    list-style-type: disc;\n",
       "    margin-left: 1.5em;\n",
       "    padding-left: 0.5em;\n",
       "  }\n",
       "  .note-card li {\n",
       "    margin-bottom: 0.75em;\n",
       "    color: #56534b;\n",
       "    font-size: 15px;\n",
       "  }\n",
       "\n",
       "  /* Math emphasis block */\n",
       "  .math-center {\n",
       "    text-align: center;\n",
       "    font-size: 14.5px;\n",
       "    color: #706a57;\n",
       "    background: #f0ede3; /* warm parchment */\n",
       "    padding: 1em 1.5em;\n",
       "    border-radius: 12px;\n",
       "    margin-top: 1.4em;\n",
       "    margin-bottom: 1.8em;\n",
       "    font-style: italic;\n",
       "    box-shadow: inset 0 0 8px rgba(115,100,81,0.1);\n",
       "  }\n",
       "\n",
       "  /* Info callout */\n",
       "  .info {\n",
       "    display: inline-block;\n",
       "    background-color: #e4decf; /* soft warm beige */\n",
       "    color: #625d4f;\n",
       "    font-weight: 600;\n",
       "    padding: 0.4em 0.8em;\n",
       "    border-radius: 7px;\n",
       "    box-shadow: 0 1px 4px rgba(115,100,81,0.12);\n",
       "  }\n",
       "</style>\n"
      ],
      "text/plain": [
       "<IPython.core.display.HTML object>"
      ]
     },
     "metadata": {},
     "output_type": "display_data"
    }
   ],
   "source": [
    "from IPython.display import display, HTML\n",
    "\n",
    "full_parchment_style_with_headings = \"\"\"\n",
    "<style>\n",
    "  /* Overall font and background */\n",
    "\n",
    "\n",
    "  /* Container */\n",
    "  .notes-container {\n",
    "    margin: 2em auto;\n",
    "    max-width: 900px;\n",
    "  }\n",
    "\n",
    "  /* Cards styled like parchment */\n",
    "  .note-card {\n",
    "    background: #fbf8f1; /* very pale parchment */\n",
    "    border: 1px solid #d3c9b7;\n",
    "    border-radius: 14px;\n",
    "    padding: 2em 2.5em;\n",
    "    margin-bottom: 2.5em;\n",
    "    box-shadow: 0 3px 10px rgba(115,100,81,0.1);\n",
    "    transition: box-shadow 0.3s ease;\n",
    "  }\n",
    "  .note-card:hover {\n",
    "    box-shadow: 0 7px 22px rgba(115,100,81,0.15);\n",
    "  }\n",
    "\n",
    "  /* Global headings outside cards */\n",
    "h1 {\n",
    "  font-family: 'Georgia', serif;\n",
    "  font-size: 2.8em;\n",
    "  font-weight: 700;\n",
    "  color: #4b4636; /* dark olive-brown */\n",
    "  margin-top: 0;\n",
    "  margin-bottom: 0.8em;\n",
    "  border-bottom: 3px solid #c1bfae; /* soft beige underline */\n",
    "  padding: 1.5em 2em 0.8em 2em; /* top, right, bottom, left */\n",
    "  background-color: #fbf8f1; /* same as note-card background */\n",
    "  border: 1px solid #d3c9b7;\n",
    "  border-radius: 14px;\n",
    "  box-shadow: 0 3px 10px rgba(115,100,81,0.1);\n",
    "}\n",
    "\n",
    "  h2 {\n",
    "    font-family: 'Georgia', serif;\n",
    "    font-size: 2.1em;\n",
    "    font-weight: 600;\n",
    "    color: #5a533d; /* muted olive-green */\n",
    "    margin-top: 0;\n",
    "    margin-bottom: 0.7em;\n",
    "    border-bottom: 2px solid #d3c9b7; /* lighter beige underline */\n",
    "    padding-bottom: 0.3em;\n",
    "  }\n",
    "\n",
    "  /* Headings inside cards use h3 */\n",
    "  .note-card h3 {\n",
    "    font-family: 'Georgia', serif;\n",
    "    font-size: 1.6em;\n",
    "    font-weight: 600;\n",
    "    color: #5a533d; /* muted olive-green */\n",
    "    margin-top: 0;\n",
    "    margin-bottom: 0.75em;\n",
    "    border-bottom: 2px solid #d3c9b7;\n",
    "    padding-bottom: 0.25em;\n",
    "  }\n",
    "\n",
    "  /* Paragraph text */\n",
    "  .note-card p {\n",
    "    color: #4c4b44;\n",
    "    font-size: 15px;\n",
    "    margin-bottom: 1.3em;\n",
    "  }\n",
    "\n",
    "  /* Lists */\n",
    "  .note-card ul {\n",
    "    list-style-type: disc;\n",
    "    margin-left: 1.5em;\n",
    "    padding-left: 0.5em;\n",
    "  }\n",
    "  .note-card li {\n",
    "    margin-bottom: 0.75em;\n",
    "    color: #56534b;\n",
    "    font-size: 15px;\n",
    "  }\n",
    "\n",
    "  /* Math emphasis block */\n",
    "  .math-center {\n",
    "    text-align: center;\n",
    "    font-size: 14.5px;\n",
    "    color: #706a57;\n",
    "    background: #f0ede3; /* warm parchment */\n",
    "    padding: 1em 1.5em;\n",
    "    border-radius: 12px;\n",
    "    margin-top: 1.4em;\n",
    "    margin-bottom: 1.8em;\n",
    "    font-style: italic;\n",
    "    box-shadow: inset 0 0 8px rgba(115,100,81,0.1);\n",
    "  }\n",
    "\n",
    "  /* Info callout */\n",
    "  .info {\n",
    "    display: inline-block;\n",
    "    background-color: #e4decf; /* soft warm beige */\n",
    "    color: #625d4f;\n",
    "    font-weight: 600;\n",
    "    padding: 0.4em 0.8em;\n",
    "    border-radius: 7px;\n",
    "    box-shadow: 0 1px 4px rgba(115,100,81,0.12);\n",
    "  }\n",
    "</style>\n",
    "\"\"\"\n",
    "\n",
    "display(HTML(full_parchment_style_with_headings))\n"
   ]
  },
  {
   "cell_type": "code",
   "execution_count": 28,
   "metadata": {
    "execution": {
     "iopub.execute_input": "2025-08-02T02:48:17.628441Z",
     "iopub.status.busy": "2025-08-02T02:48:17.628012Z",
     "iopub.status.idle": "2025-08-02T02:48:17.652242Z",
     "shell.execute_reply": "2025-08-02T02:48:17.651276Z",
     "shell.execute_reply.started": "2025-08-02T02:48:17.628416Z"
    },
    "trusted": true
   },
   "outputs": [],
   "source": [
    "import numpy as np\n",
    "import pandas as pd\n",
    "import matplotlib.pyplot as plt\n",
    "import seaborn as sns\n",
    "\n",
    "sns.set_palette('Spectral')"
   ]
  },
  {
   "cell_type": "markdown",
   "metadata": {},
   "source": [
    "<hr style=\"border: none;\n",
    "  height: 1px;\n",
    "  background-color: #d3c9b7;\n",
    "  margin: 2em 0;\n",
    "  box-shadow: 0 1px 2px rgba(115,100,81,0.1);\"\n",
    ">\n",
    "</hr>\n",
    "<hr style=\"border: none;\n",
    "  height: 1px;\n",
    "  background-color: #d3c9b7;\n",
    "  margin: 2em 0;\n",
    "  box-shadow: 0 1px 2px rgba(115,100,81,0.1);\"\n",
    ">\n",
    "</hr>\n",
    "<hr style=\"border: none;\n",
    "  height: 1px;\n",
    "  background-color: #d3c9b7;\n",
    "  margin: 2em 0;\n",
    "  box-shadow: 0 1px 2px rgba(115,100,81,0.1);\"\n",
    ">\n",
    "</hr>"
   ]
  },
  {
   "cell_type": "markdown",
   "metadata": {},
   "source": [
    "# <center> Class Attributes </center>"
   ]
  },
  {
   "cell_type": "markdown",
   "metadata": {},
   "source": [
    "<div class=\"notes-container\">\n",
    "  <div class=\"note-card\">\n",
    "    <h3>Core Parameters</h3>\n",
    "    <ul>\n",
    "      <li><strong>weights_vector:</strong> Dimensional vector of shape (n_features,) storing learned feature coefficients</li>\n",
    "      <li><strong>bias:</strong> Scalar value representing the intercept term</li>\n",
    "    </ul>\n",
    "  </div>\n",
    "  \n",
    "  <div class=\"note-card\">\n",
    "    <h3>Training Configuration</h3>\n",
    "    <ul>\n",
    "      <li><strong>learning_rate:</strong> Float controlling gradient descent step size (default: 0.01)</li>\n",
    "      <li><strong>number_of_epochs:</strong> Integer specifying maximum training iterations (default: 1000)</li>\n",
    "      <li><strong>verbose:</strong> Boolean flag enabling training progress display during optimization</li>\n",
    "      <li><strong>log_every:</strong> Integer frequency for progress logging when verbose mode is active (default: 100)</li>\n",
    "    </ul>\n",
    "  </div>\n",
    "  \n",
    "  <div class=\"note-card\">\n",
    "    <h3>Performance Tracking</h3>\n",
    "    <ul>\n",
    "      <li><strong>final_loss:</strong> Float storing the last computed cross-entropy loss value after training</li>\n",
    "      <li><strong>loss_history:</strong> List of floats recording all loss values throughout training (for visualization)</li>\n",
    "    </ul>\n",
    "    <div class=\"math-center\">\n",
    "      <em>Loss history enables <strong>convergence analysis</strong> and learning curve visualization</em>\n",
    "    </div>\n",
    "  </div>\n",
    "</div>\n"
   ]
  },
  {
   "cell_type": "markdown",
   "metadata": {},
   "source": [
    "<hr style=\"border: none;\n",
    "  height: 1px;\n",
    "  background-color: #d3c9b7;\n",
    "  margin: 2em 0;\n",
    "  box-shadow: 0 1px 2px rgba(115,100,81,0.1);\"\n",
    ">\n",
    "</hr>\n",
    "<hr style=\"border: none;\n",
    "  height: 1px;\n",
    "  background-color: #d3c9b7;\n",
    "  margin: 2em 0;\n",
    "  box-shadow: 0 1px 2px rgba(115,100,81,0.1);\"\n",
    ">\n",
    "</hr>\n",
    "<hr style=\"border: none;\n",
    "  height: 1px;\n",
    "  background-color: #d3c9b7;\n",
    "  margin: 2em 0;\n",
    "  box-shadow: 0 1px 2px rgba(115,100,81,0.1);\"\n",
    ">\n",
    "</hr>"
   ]
  },
  {
   "cell_type": "markdown",
   "metadata": {},
   "source": [
    "# <center> Sigmoid Activation Function </center>\n",
    "<div class=\"notes-container\">\n",
    "  <div class=\"note-card\">\n",
    "    <div style=\"margin-bottom: 1.8em;\">\n",
    "      <h3>Function Purpose</h3>\n",
    "      <ul>\n",
    "        <li><strong style=\"color: #8a6353;\">Probability conversion</strong> - transforms linear output z into probability values between 0 and 1</li>\n",
    "        <li><strong style=\"color: #8a6353;\">Smooth transition</strong> - provides smooth, differentiable mapping for gradient-based optimization</li>\n",
    "        <li><strong style=\"color: #8a6353;\">Binary classification</strong> - ideal activation for logistic regression's probabilistic output</li>\n",
    "      </ul>\n",
    "    </div>\n",
    "    <div style=\"margin-bottom: 1.8em;\">\n",
    "      <h3>Mathematical Formula</h3>\n",
    "      <div class=\"math-center\">\n",
    "        $$\\sigma(z) = \\frac{1}{1 + e^{-z}}$$\n",
    "      </div>\n",
    "      <ul>\n",
    "        <li><strong style=\"color: #8a6353;\">Input z</strong> - linear combination (weights · features + bias)</li>\n",
    "        <li><strong style=\"color: #8a6353;\">Output range</strong> - always produces values in (0, 1) interval</li>\n",
    "        <li><strong style=\"color: #8a6353;\">S-shaped curve</strong> - steep transition around z = 0</li>\n",
    "      </ul>\n",
    "    </div>\n",
    "    <div style=\"margin-bottom: 1.8em;\">\n",
    "      <h3>Numerical Stability</h3>\n",
    "      <ul>\n",
    "        <li><strong style=\"color: #8a6353;\">Input clipping</strong> - z values clipped to [-500, 500] range</li>\n",
    "        <li><strong style=\"color: #8a6353;\">Overflow prevention</strong> - prevents exp(-z) from becoming infinite</li>\n",
    "        <li><strong style=\"color: #8a6353;\">Gradient preservation</strong> - maintains meaningful gradients for backpropagation</li>\n",
    "      </ul>\n",
    "    </div>\n",
    "    <div style=\"background-color: #f0ede3; padding: 1em 1.5em; border-left: 5px solid #5a533d; border-radius: 6px; font-style: italic; color: #5a533d; box-shadow: inset 0 0 8px rgba(115,100,81,0.1);\">\n",
    "      The sigmoid function is the <strong style=\"color: #5a533d;\">core activation</strong> that enables logistic regression to output <strong style=\"color: #5a533d;\">interpretable probabilities</strong> for binary classification tasks.\n",
    "    </div>\n",
    "  </div>\n",
    "</div>"
   ]
  },
  {
   "cell_type": "code",
   "execution_count": 29,
   "metadata": {
    "execution": {
     "iopub.execute_input": "2025-08-02T02:48:17.653890Z",
     "iopub.status.busy": "2025-08-02T02:48:17.653633Z",
     "iopub.status.idle": "2025-08-02T02:48:17.672634Z",
     "shell.execute_reply": "2025-08-02T02:48:17.671737Z",
     "shell.execute_reply.started": "2025-08-02T02:48:17.653870Z"
    },
    "trusted": true
   },
   "outputs": [],
   "source": [
    "def _sigmoid(self, z):\n",
    "    \"\"\"Sigmoid activation function.\"\"\"\n",
    "    z = np.clip(z, -500, 500)  # avoid overflow\n",
    "    return 1 / (1 + np.exp(-z))"
   ]
  },
  {
   "cell_type": "markdown",
   "metadata": {},
   "source": [
    "# <center> Cross-Entropy Loss Function </center>\n",
    "\n",
    "<div class=\"notes-container\">\n",
    "  <div class=\"note-card\">\n",
    "    <div style=\"margin-bottom: 1.8em;\">\n",
    "      <h3>Function Purpose</h3>\n",
    "      <ul>\n",
    "        <li><strong style=\"color: #8a6353;\">Error measurement</strong> - quantifies difference between predicted probabilities and true labels</li>\n",
    "        <li><strong style=\"color: #8a6353;\">Optimization target</strong> - provides smooth, convex loss surface for gradient descent</li>\n",
    "        <li><strong style=\"color: #8a6353;\">Probabilistic framework</strong> - aligns with maximum likelihood estimation for binary classification</li>\n",
    "      </ul>\n",
    "    </div>\n",
    "    <div style=\"margin-bottom: 1.8em;\">\n",
    "      <h3>Mathematical Formula</h3>\n",
    "      <div class=\"math-center\">\n",
    "        $$J = -\\frac{1}{m} \\sum_{i=1}^{m} \\left[ y^{(i)} \\log(\\hat{y}^{(i)} + \\epsilon) + (1-y^{(i)}) \\log(1-\\hat{y}^{(i)} + \\epsilon) \\right]$$\n",
    "      </div>\n",
    "      <ul>\n",
    "        <li><strong style=\"color: #8a6353;\">m</strong> - number of training examples</li>\n",
    "        <li><strong style=\"color: #8a6353;\">y⁽ⁱ⁾</strong> - true binary label (0 or 1)</li>\n",
    "        <li><strong style=\"color: #8a6353;\">ŷ⁽ⁱ⁾</strong> - predicted probability from sigmoid</li>\n",
    "        <li><strong style=\"color: #8a6353;\">ε</strong> - epsilon smoothing term (1e-10)</li>\n",
    "      </ul>\n",
    "    </div>\n",
    "    <div style=\"margin-bottom: 1.8em;\">\n",
    "      <h3>Numerical Stability</h3>\n",
    "      <ul>\n",
    "        <li><strong style=\"color: #8a6353;\">Epsilon smoothing</strong> - prevents log(0) which would cause numerical instability</li>\n",
    "        <li><strong style=\"color: #8a6353;\">Underflow protection</strong> - ensures logarithm inputs are always positive</li>\n",
    "        <li><strong style=\"color: #8a6353;\">Loss behavior</strong> - approaches 0 for perfect predictions, increases for poor predictions</li>\n",
    "      </ul>\n",
    "    </div>\n",
    "    <div style=\"background-color: #f0ede3; padding: 1em 1.5em; border-left: 5px solid #5a533d; border-radius: 6px; font-style: italic; color: #5a533d; box-shadow: inset 0 0 8px rgba(115,100,81,0.1);\">\n",
    "      Cross-entropy loss provides the <strong style=\"color: #5a533d;\">optimization objective</strong> that guides parameter updates during <strong style=\"color: #5a533d;\">gradient descent training</strong>.\n",
    "    </div>\n",
    "  </div>\n",
    "</div>"
   ]
  },
  {
   "cell_type": "code",
   "execution_count": 30,
   "metadata": {
    "execution": {
     "iopub.execute_input": "2025-08-02T02:48:17.673860Z",
     "iopub.status.busy": "2025-08-02T02:48:17.673539Z",
     "iopub.status.idle": "2025-08-02T02:48:17.692193Z",
     "shell.execute_reply": "2025-08-02T02:48:17.691284Z",
     "shell.execute_reply.started": "2025-08-02T02:48:17.673839Z"
    },
    "trusted": true
   },
   "outputs": [],
   "source": [
    "def _cross_entropy_loss(self, y, y_hat):\n",
    "    \"\"\"Compute the logistic loss.\"\"\"\n",
    "    epsilon = 1e-10\n",
    "    return -np.mean(y * np.log(y_hat + epsilon) + (1 - y) * np.log(1 - y_hat + epsilon))"
   ]
  },
  {
   "cell_type": "markdown",
   "metadata": {},
   "source": [
    "# <center> Forward Propagation Function </center>\n",
    "<div class=\"notes-container\">\n",
    "  <div class=\"note-card\">\n",
    "    <div style=\"margin-bottom: 1.8em;\">\n",
    "      <h3>Function Purpose</h3>\n",
    "      <ul>\n",
    "        <li><strong style=\"color: #8a6353;\">Prediction generation</strong> - transforms input features into probability predictions</li>\n",
    "        <li><strong style=\"color: #8a6353;\">Loss computation</strong> - calculates cross-entropy loss for current model parameters</li>\n",
    "        <li><strong style=\"color: #8a6353;\">Training tracking</strong> - records loss values for convergence monitoring and visualization</li>\n",
    "      </ul>\n",
    "    </div>\n",
    "    <div style=\"margin-bottom: 1.8em;\">\n",
    "      <h3>Step-by-Step Process</h3>\n",
    "      <div class=\"math-center\">\n",
    "        $$z = \\mathbf{X} \\cdot \\mathbf{w} + b$$\n",
    "        $$\\hat{y} = \\sigma(z) = \\frac{1}{1 + e^{-z}}$$\n",
    "        $$J = -\\text{mean}\\left[ \\mathbf{y} \\odot \\log(\\hat{\\mathbf{y}} + \\epsilon) + (\\mathbf{1} - \\mathbf{y}) \\odot \\log(\\mathbf{1} - \\hat{\\mathbf{y}} + \\epsilon) \\right]$$\n",
    "      </div>\n",
    "      <ul>\n",
    "        <li><strong style=\"color: #8a6353;\">z</strong> - linear combination of features and weights plus bias</li>\n",
    "        <li><strong style=\"color: #8a6353;\">ŷ</strong> - predicted probabilities after sigmoid activation</li>\n",
    "        <li><strong style=\"color: #8a6353;\">J</strong> - cross-entropy loss measuring prediction accuracy</li>\n",
    "        <li><strong style=\"color: #8a6353;\">X @ weights_vector</strong> - matrix multiplication for efficient computation</li>\n",
    "      </ul>\n",
    "    </div>\n",
    "    <div style=\"margin-bottom: 1.8em;\">\n",
    "      <h3>Implementation Details</h3>\n",
    "      <ul>\n",
    "        <li><strong style=\"color: #8a6353;\">Matrix operations</strong> - uses vectorized NumPy operations for computational efficiency</li>\n",
    "        <li><strong style=\"color: #8a6353;\">Loss tracking</strong> - appends current loss to loss_history list for training monitoring</li>\n",
    "        <li><strong style=\"color: #8a6353;\">Return values</strong> - outputs both predictions (y_hat) and loss for use in training loop</li>\n",
    "        <li><strong style=\"color: #8a6353;\">Broadcasting</strong> - bias term automatically broadcasts across all training examples</li>\n",
    "      </ul>\n",
    "    </div>\n",
    "    <div style=\"background-color: #f0ede3; padding: 1em 1.5em; border-left: 5px solid #5a533d; border-radius: 6px; font-style: italic; color: #5a533d; box-shadow: inset 0 0 8px rgba(115,100,81,0.1);\">\n",
    "      Forward propagation is the <strong style=\"color: #5a533d;\">first phase</strong> of each training iteration, computing predictions and loss before <strong style=\"color: #5a533d;\">backward propagation</strong> calculates gradients for parameter updates.\n",
    "    </div>\n",
    "  </div>\n",
    "</div>"
   ]
  },
  {
   "cell_type": "code",
   "execution_count": 31,
   "metadata": {
    "execution": {
     "iopub.execute_input": "2025-08-02T02:48:17.694632Z",
     "iopub.status.busy": "2025-08-02T02:48:17.693954Z",
     "iopub.status.idle": "2025-08-02T02:48:17.713458Z",
     "shell.execute_reply": "2025-08-02T02:48:17.712721Z",
     "shell.execute_reply.started": "2025-08-02T02:48:17.694601Z"
    },
    "trusted": true
   },
   "outputs": [],
   "source": [
    "def _forward_propagation(self, X, y):\n",
    "    \"\"\"Compute predictions and loss.\"\"\"\n",
    "    z = X @ self.weights_vector + self.bias\n",
    "    y_hat = self._sigmoid(z)\n",
    "    loss = self._cross_entropy_loss(y, y_hat)\n",
    "    self.loss_history.append(loss)\n",
    "    return y_hat, loss"
   ]
  },
  {
   "cell_type": "markdown",
   "metadata": {},
   "source": [
    "# <center> Backpropagation Function </center>\n",
    "<div class=\"notes-container\">\n",
    "  <div class=\"note-card\">\n",
    "    <div style=\"margin-bottom: 1.8em;\">\n",
    "      <h3>Mathematical Derivation</h3>\n",
    "      <!-- <div class=\"math-center\">\n",
    "        $$\\text{error} = \\hat{\\mathbf{y}} - \\mathbf{y}$$\n",
    "        <p style=\"margin-top:0.5em; font-size:14px; color:#5a533d;\">\n",
    "          The <strong>error</strong> is the difference between predicted probabilities \n",
    "          and the true labels for each training example.\n",
    "        </p>\n",
    "      </div> -->\n",
    "      <div class=\"math-center\">\n",
    "        $$\\frac{\\partial J}{\\partial w_j} = \\frac{1}{m} \\sum_{i=1}^{m} \\big(\\hat{y}^{(i)} - y^{(i)}\\big) x_j^{(i)}$$\n",
    "        <p style=\"margin-top:0.5em; font-size:14px; color:#5a533d;\">\n",
    "          The <strong>unvectorized gradient</strong> shows how the loss changes with respect \n",
    "          to a single weight $w_j$, averaged across all $m$ training samples.\n",
    "        </p>\n",
    "      </div>\n",
    "      <div class=\"math-center\">\n",
    "        $$\\frac{\\partial J}{\\partial \\mathbf{w}} = \\frac{1}{m} \\, \\mathbf{X}^T (\\hat{\\mathbf{y}} - \\mathbf{y})$$\n",
    "        <p style=\"margin-top:0.5em; font-size:14px; color:#5a533d;\">\n",
    "          The <strong>vectorized gradient</strong> computes all weight updates simultaneously \n",
    "          using efficient matrix multiplication.\n",
    "        </p>\n",
    "      </div>\n",
    "      <div class=\"math-center\">\n",
    "        $$\\frac{\\partial J}{\\partial b} = \\frac{1}{m} \\sum_{i=1}^{m} \\big(\\hat{y}^{(i)} - y^{(i)}\\big)$$\n",
    "        <p style=\"margin-top:0.5em; font-size:14px; color:#5a533d;\">\n",
    "          The <strong>bias gradient</strong> is simply the average error across all training samples, \n",
    "          since the bias affects every prediction equally.\n",
    "        </p>\n",
    "      </div>\n",
    "    </div>\n",
    "  </div>\n",
    "</div>\n"
   ]
  },
  {
   "cell_type": "code",
   "execution_count": 32,
   "metadata": {
    "execution": {
     "iopub.execute_input": "2025-08-02T02:48:17.715408Z",
     "iopub.status.busy": "2025-08-02T02:48:17.715084Z",
     "iopub.status.idle": "2025-08-02T02:48:17.731489Z",
     "shell.execute_reply": "2025-08-02T02:48:17.730507Z",
     "shell.execute_reply.started": "2025-08-02T02:48:17.715370Z"
    },
    "trusted": true
   },
   "outputs": [],
   "source": [
    "def _back_propagation(self, X, y, y_hat):\n",
    "    \"\"\"Compute gradients.\"\"\"\n",
    "    error = y_hat - y\n",
    "    n_samples = X.shape[0]\n",
    "    weights_derivative = (X.T @ error) / n_samples\n",
    "    bias_derivative = np.mean(error)\n",
    "    return weights_derivative, bias_derivative"
   ]
  },
  {
   "cell_type": "markdown",
   "metadata": {},
   "source": [
    "# <center> Parameter Update Function </center>\n",
    "<div class=\"notes-container\">\n",
    "  <div class=\"note-card\">\n",
    "    <div style=\"margin-bottom: 1.8em;\">\n",
    "      <h3>Function Purpose</h3>\n",
    "      <ul>\n",
    "        <li><strong style=\"color: #8a6353;\">Parameter optimization</strong> - adjusts model weights and bias to minimize loss function</li>\n",
    "        <li><strong style=\"color: #8a6353;\">Gradient descent step</strong> - moves parameters in the direction opposite to the gradient</li>\n",
    "        <li><strong style=\"color: #8a6353;\">Learning control</strong> - uses learning rate to control the magnitude of parameter updates</li>\n",
    "      </ul>\n",
    "    </div>\n",
    "    <div style=\"margin-bottom: 1.8em;\">\n",
    "      <h3>Mathematical Formula</h3>\n",
    "      <div class=\"math-center\">\n",
    "        $$\\mathbf{w}_{new} = \\mathbf{w}_{old} - \\alpha \\cdot \\frac{\\partial J}{\\partial \\mathbf{w}}$$\n",
    "        $$b_{new} = b_{old} - \\alpha \\cdot \\frac{\\partial J}{\\partial b}$$\n",
    "      </div>\n",
    "      <ul>\n",
    "        <li><strong style=\"color: #8a6353;\">α (alpha)</strong> - learning rate controlling step size</li>\n",
    "        <li><strong style=\"color: #8a6353;\">∂J/∂w</strong> - weights gradient (weights_derivative)</li>\n",
    "        <li><strong style=\"color: #8a6353;\">∂J/∂b</strong> - bias gradient (bias_derivative)</li>\n",
    "        <li><strong style=\"color: #8a6353;\">Minus sign</strong> - moves parameters opposite to gradient direction (toward minimum)</li>\n",
    "      </ul>\n",
    "    </div>\n",
    "</div>"
   ]
  },
  {
   "cell_type": "code",
   "execution_count": 33,
   "metadata": {
    "execution": {
     "iopub.execute_input": "2025-08-02T02:48:17.732815Z",
     "iopub.status.busy": "2025-08-02T02:48:17.732446Z",
     "iopub.status.idle": "2025-08-02T02:48:17.747767Z",
     "shell.execute_reply": "2025-08-02T02:48:17.746877Z",
     "shell.execute_reply.started": "2025-08-02T02:48:17.732784Z"
    },
    "trusted": true
   },
   "outputs": [],
   "source": [
    "def _update(self, weights_derivative, bias_derivative):\n",
    "    \"\"\"Update weights and bias.\"\"\"\n",
    "    self.weights -= self.learning_rate * weights_derivative\n",
    "    self.bias -= self.learning_rate * bias_derivative"
   ]
  },
  {
   "cell_type": "markdown",
   "metadata": {},
   "source": [
    "# <center> Fit Method - Training Loop </center>\n",
    "<div class=\"notes-container\">\n",
    "  <div class=\"note-card\">\n",
    "    <div style=\"margin-bottom: 1.8em;\">\n",
    "      <h3>Function Purpose</h3>\n",
    "      <ul>\n",
    "        <li><strong style=\"color: #8a6353;\">Model training</strong> - orchestrates the complete training process for logistic regression</li>\n",
    "        <li><strong style=\"color: #8a6353;\">Parameter learning</strong> - iteratively optimizes weights and bias using gradient descent</li>\n",
    "        <li><strong style=\"color: #8a6353;\">Progress monitoring</strong> - tracks training progress and provides verbose output when enabled</li>\n",
    "      </ul>\n",
    "    </div>\n",
    "    <div style=\"margin-bottom: 1.8em;\">\n",
    "      <h3>Training Process Flow</h3>\n",
    "      <div class=\"math-center\">\n",
    "        <strong>Step 1:</strong> Initialize weights = 0, bias = 0<br><br>\n",
    "        <strong>Step 2:</strong> For each epoch, repeat these 3 methods:<br><br>\n",
    "        <strong>2a) Forward Propagation:</strong><br>\n",
    "        → Goal: Make predictions using current weights<br>\n",
    "        → Calculate probabilities from features<br>\n",
    "        → Measure prediction accuracy (loss)<br><br>\n",
    "        <strong>2b) Backpropagation:</strong><br>\n",
    "        → Goal: Figure out how to improve weights<br>\n",
    "        → Calculate gradients (which direction to move)<br>\n",
    "        → Determine how much each weight contributed to errors<br><br>\n",
    "        <strong>2c) Parameter Update:</strong><br>\n",
    "        → Goal: Actually improve the weights<br>\n",
    "        → Adjust weights in the direction that reduces loss<br>\n",
    "        → Use learning rate to control step size<br><br>\n",
    "        <strong>Step 3:</strong> After all epochs, save final loss\n",
    "      </div>\n",
    "      <ul>\n",
    "        <li><strong style=\"color: #8a6353;\">Epoch</strong> - one complete cycle through all three methods</li>\n",
    "        <li><strong style=\"color: #8a6353;\">Forward → Backward → Update</strong> - the three-step cycle that improves the model</li>\n",
    "        <li><strong style=\"color: #8a6353;\">Gradients</strong> - mathematical instructions for improving weights</li>\n",
    "        <li><strong style=\"color: #8a6353;\">Convergence</strong> - loss gets smaller as weights get better over time</li>\n",
    "      </ul>\n",
    "    </div>\n",
    "    <div style=\"margin-bottom: 1.8em;\">\n",
    "      <h3>Implementation Features</h3>\n",
    "      <ul>\n",
    "        <li><strong style=\"color: #8a6353;\">Training loop</strong> - iterates for specified number_of_epochs</li>\n",
    "        <li><strong style=\"color: #8a6353;\">Verbose logging</strong> - prints loss and weights norm every log_every epochs</li>\n",
    "        <li><strong style=\"color: #8a6353;\">Final state</strong> - stores final_loss and returns self for method chaining</li>\n",
    "        <li><strong style=\"color: #8a6353;\">Progress tracking</strong> - monitors convergence through loss values and weight magnitudes</li>\n",
    "      </ul>\n",
    "    </div>\n",
    "    <div style=\"background-color: #f0ede3; padding: 1em 1.5em; border-left: 5px solid #5a533d; border-radius: 6px; font-style: italic; color: #5a533d; box-shadow: inset 0 0 8px rgba(115,100,81,0.1);\">\n",
    "      The fit method implements the complete <strong style=\"color: #5a533d;\">training pipeline</strong>, combining forward propagation, backpropagation, and parameter updates in an iterative <strong style=\"color: #5a533d;\">gradient descent loop</strong>.\n",
    "    </div>\n",
    "  </div>\n",
    "</div>"
   ]
  },
  {
   "cell_type": "code",
   "execution_count": null,
   "metadata": {
    "execution": {
     "iopub.execute_input": "2025-08-02T02:48:17.750271Z",
     "iopub.status.busy": "2025-08-02T02:48:17.749533Z",
     "iopub.status.idle": "2025-08-02T02:48:17.765595Z",
     "shell.execute_reply": "2025-08-02T02:48:17.764694Z",
     "shell.execute_reply.started": "2025-08-02T02:48:17.750247Z"
    },
    "trusted": true
   },
   "outputs": [],
   "source": [
    "def fit(self, X, y):\n",
    "    \"\"\"Train the logistic regression model.\"\"\"\n",
    "    self._init_parameters(X.shape[1])\n",
    "\n",
    "    for epoch in range(self.number_of_epochs):\n",
    "        y_hat, current_loss = self._forward_propagation(X, y)\n",
    "        weights_derivative, bias_derivative = self._back_propagation(X, y, y_hat)\n",
    "        self._update(weights_derivative, bias_derivative)\n",
    "\n",
    "        if self.verbose and (epoch % self.log_every == 0 or epoch == self.number_of_epochs - 1):\n",
    "            print(f\"Epoch {epoch:<5} | Loss: {current_loss:.5f} | Weights Norm: {np.linalg.norm(self.weights):.5f}\")\n",
    "\n",
    "    self.final_loss = current_loss\n",
    "    return self"
   ]
  },
  {
   "cell_type": "markdown",
   "metadata": {},
   "source": [
    "# <center> Predict Probability Method </center>\n",
    "<div class=\"notes-container\">\n",
    "  <div class=\"note-card\">\n",
    "    <div style=\"margin-bottom: 1.8em;\">\n",
    "      <h3>Function Purpose</h3>\n",
    "      <ul>\n",
    "        <li><strong style=\"color: #8a6353;\">Probability prediction</strong> - generates probability scores for binary classification</li>\n",
    "        <li><strong style=\"color: #8a6353;\">Inference mode</strong> - uses trained weights to make predictions on new data</li>\n",
    "        <li><strong style=\"color: #8a6353;\">Continuous output</strong> - returns values between 0 and 1 representing class probabilities</li>\n",
    "      </ul>\n",
    "    </div>\n",
    "    <div style=\"margin-bottom: 1.8em;\">\n",
    "      <h3>Mathematical Process</h3>\n",
    "      <div class=\"math-center\">\n",
    "        $$z = \\mathbf{X} \\cdot \\mathbf{w} + b$$\n",
    "        $$P(y=1|\\mathbf{x}) = \\sigma(z) = \\frac{1}{1 + e^{-z}}$$\n",
    "      </div>\n",
    "      <ul>\n",
    "        <li><strong style=\"color: #8a6353;\">z</strong> - linear combination of features and learned weights</li>\n",
    "        <li><strong style=\"color: #8a6353;\">σ(z)</strong> - sigmoid activation converting z to probability</li>\n",
    "        <li><strong style=\"color: #8a6353;\">P(y=1|x)</strong> - probability that sample belongs to positive class</li>\n",
    "        <li><strong style=\"color: #8a6353;\">Output range</strong> - always between 0 and 1 (valid probability)</li>\n",
    "      </ul>\n",
    "    </div>\n",
    "</div>"
   ]
  },
  {
   "cell_type": "code",
   "execution_count": 35,
   "metadata": {
    "execution": {
     "iopub.execute_input": "2025-08-02T02:48:17.766651Z",
     "iopub.status.busy": "2025-08-02T02:48:17.766388Z",
     "iopub.status.idle": "2025-08-02T02:48:17.778421Z",
     "shell.execute_reply": "2025-08-02T02:48:17.777602Z",
     "shell.execute_reply.started": "2025-08-02T02:48:17.766633Z"
    },
    "trusted": true
   },
   "outputs": [],
   "source": [
    "def predict_probability(self, X):\n",
    "    \"\"\"Predict probabilities for input samples.\"\"\"\n",
    "    z = X @ self.weights + self.bias\n",
    "    return self._sigmoid(z)"
   ]
  },
  {
   "cell_type": "markdown",
   "metadata": {},
   "source": [
    "# <center> Predict Method - Binary Classification </center>\n",
    "<div class=\"notes-container\">\n",
    "  <div class=\"note-card\">\n",
    "    <div style=\"margin-bottom: 1.8em;\">\n",
    "      <h3>Function Purpose</h3>\n",
    "      <ul>\n",
    "        <li><strong style=\"color: #8a6353;\">Binary classification</strong> - converts probabilities to discrete class labels (0 or 1)</li>\n",
    "        <li><strong style=\"color: #8a6353;\">Decision making</strong> - applies threshold to determine final predictions</li>\n",
    "        <li><strong style=\"color: #8a6353;\">Categorical output</strong> - returns integer labels instead of continuous probabilities</li>\n",
    "      </ul>\n",
    "    </div>\n",
    "    <div style=\"margin-bottom: 1.8em;\">\n",
    "      <h3>Decision Process</h3>\n",
    "      <div class=\"math-center\">\n",
    "        $$P(y=1|\\mathbf{x}) = \\text{predict\\_probability}(\\mathbf{X})$$\n",
    "        $$\\hat{y} = \\begin{cases} \n",
    "        1 & \\text{if } P(y=1|\\mathbf{x}) \\geq 0.5 \\\\\n",
    "        0 & \\text{if } P(y=1|\\mathbf{x}) < 0.5\n",
    "        \\end{cases}$$\n",
    "      </div>\n",
    "      <ul>\n",
    "        <li><strong style=\"color: #8a6353;\">Threshold = 0.5</strong> - decision boundary for binary classification</li>\n",
    "        <li><strong style=\"color: #8a6353;\">Class 1</strong> - assigned when probability ≥ 0.5 (positive class)</li>\n",
    "        <li><strong style=\"color: #8a6353;\">Class 0</strong> - assigned when probability < 0.5 (negative class)</li>\n",
    "        <li><strong style=\"color: #8a6353;\">Hard predictions</strong> - definitive class assignments rather than probabilities</li>\n",
    "      </ul>\n",
    "    </div>\n",
    "</div>"
   ]
  },
  {
   "cell_type": "code",
   "execution_count": 36,
   "metadata": {
    "execution": {
     "iopub.execute_input": "2025-08-02T02:48:17.779711Z",
     "iopub.status.busy": "2025-08-02T02:48:17.779341Z",
     "iopub.status.idle": "2025-08-02T02:48:17.793771Z",
     "shell.execute_reply": "2025-08-02T02:48:17.792977Z",
     "shell.execute_reply.started": "2025-08-02T02:48:17.779651Z"
    },
    "trusted": true
   },
   "outputs": [],
   "source": [
    "def predict(self, X):\n",
    "    \"\"\"Predict class labels (0 or 1).\"\"\"\n",
    "    probabilities = self.predict_probability(X)\n",
    "    return (probabilities >= 0.5).astype(int)"
   ]
  },
  {
   "cell_type": "markdown",
   "metadata": {},
   "source": [
    "# <center> Plot Losses Method - Training Visualization </center>\n",
    "<div class=\"notes-container\">\n",
    "  <div class=\"note-card\">\n",
    "    <div style=\"margin-bottom: 1.8em;\">\n",
    "      <h3>Function Purpose</h3>\n",
    "      <ul>\n",
    "        <li><strong style=\"color: #8a6353;\">Training visualization</strong> - creates a line plot showing loss values across epochs</li>\n",
    "        <li><strong style=\"color: #8a6353;\">Convergence analysis</strong> - helps assess if the model is learning properly</li>\n",
    "      </ul>\n",
    "    </div>\n",
    "</div>"
   ]
  },
  {
   "cell_type": "code",
   "execution_count": 37,
   "metadata": {
    "execution": {
     "iopub.execute_input": "2025-08-02T02:48:17.794920Z",
     "iopub.status.busy": "2025-08-02T02:48:17.794668Z",
     "iopub.status.idle": "2025-08-02T02:48:17.809473Z",
     "shell.execute_reply": "2025-08-02T02:48:17.808496Z",
     "shell.execute_reply.started": "2025-08-02T02:48:17.794902Z"
    },
    "trusted": true
   },
   "outputs": [],
   "source": [
    "def plot_losses(self, ax=None):\n",
    "    \"\"\"Plot losses over epochs.\"\"\"\n",
    "    if ax is None:\n",
    "        ax = plt.gca()\n",
    "    ax.plot(self.loss_history, label=f'Final loss: {self.final_loss:.2f}')\n",
    "    ax.set_xlabel('Epochs', fontsize=12)\n",
    "    ax.set_ylabel('Loss', fontsize=12)\n",
    "    ax.set_title('Training Loss Over Epochs')\n",
    "    ax.legend()\n",
    "    ax.grid(alpha=0.5)"
   ]
  },
  {
   "cell_type": "markdown",
   "metadata": {},
   "source": [
    "# Full model"
   ]
  },
  {
   "cell_type": "code",
   "execution_count": 38,
   "metadata": {
    "execution": {
     "iopub.execute_input": "2025-08-02T02:48:17.810924Z",
     "iopub.status.busy": "2025-08-02T02:48:17.810509Z",
     "iopub.status.idle": "2025-08-02T02:48:17.833101Z",
     "shell.execute_reply": "2025-08-02T02:48:17.832336Z",
     "shell.execute_reply.started": "2025-08-02T02:48:17.810901Z"
    },
    "trusted": true
   },
   "outputs": [],
   "source": [
    "import numpy as np\n",
    "import matplotlib.pyplot as plt\n",
    "\n",
    "class CustomLogisticRegression:\n",
    "    def __init__(self, learning_rate=0.01, number_of_epochs=1000,\n",
    "                 verbose=False, log_every=100):\n",
    "        self.weights = None                       # weights of features (coefficients). shape(n_features,)\n",
    "        self.bias = None                          # bias (intercept)\n",
    "        \n",
    "        self.learning_rate = learning_rate        # learning rate\n",
    "        self.number_of_epochs = number_of_epochs  # number of training epochs\n",
    "        \n",
    "        self.final_loss = None                    # last loss value of the model\n",
    "        self.loss_history = []                    # all losses generated by the model\n",
    "        \n",
    "        self.verbose = verbose                    # print epoch | cost | weights norm\n",
    "        self.log_every = log_every                # log how often \n",
    "\n",
    "    \n",
    "    def _sigmoid(self, z):\n",
    "        \"\"\"Sigmoid activation function.\"\"\"\n",
    "        z = np.clip(z, -500, 500)  # avoid overflow\n",
    "        return 1 / (1 + np.exp(-z))\n",
    "\n",
    "    \n",
    "    def _cross_entropy_loss(self, y, y_hat):\n",
    "        \"\"\"Compute the logistic loss.\"\"\"\n",
    "        epsilon = 1e-10\n",
    "        return -np.mean(y * np.log(y_hat + epsilon) + (1 - y) * np.log(1 - y_hat + epsilon))\n",
    "\n",
    "    \n",
    "    def _forward_propagation(self, X, y):\n",
    "        \"\"\"Compute predictions and loss.\"\"\"\n",
    "        z = X @ self.weights + self.bias\n",
    "        y_hat = self._sigmoid(z)\n",
    "        loss = self._cross_entropy_loss(y, y_hat)\n",
    "        self.loss_history.append(loss)\n",
    "        return y_hat, loss\n",
    "\n",
    "    \n",
    "    def _back_propagation(self, X, y, y_hat):\n",
    "        \"\"\"Compute gradients.\"\"\"\n",
    "        error = y_hat - y\n",
    "        n_samples = X.shape[0]\n",
    "        weights_derivative = (X.T @ error) / n_samples\n",
    "        bias_derivative = np.mean(error)\n",
    "        return weights_derivative, bias_derivative\n",
    "\n",
    "    \n",
    "    def _update(self, weights_derivative, bias_derivative):\n",
    "        \"\"\"Update weights and bias.\"\"\"\n",
    "        self.weights -= self.learning_rate * weights_derivative\n",
    "        self.bias -= self.learning_rate * bias_derivative\n",
    "\n",
    "    \n",
    "    def _init_parameters(self, n_features):\n",
    "        \"\"\"Initialize weights and bias.\"\"\"\n",
    "        self.weights = np.random.normal(0.0, 0.01, size=n_features)\n",
    "        self.bias = 0.0\n",
    "\n",
    "    \n",
    "    def fit(self, X, y):\n",
    "        \"\"\"Train the logistic regression model.\"\"\"\n",
    "        self._init_parameters(X.shape[1])\n",
    "\n",
    "        for epoch in range(self.number_of_epochs):\n",
    "            y_hat, current_loss = self._forward_propagation(X, y)\n",
    "            weights_derivative, bias_derivative = self._back_propagation(X, y, y_hat)\n",
    "            self._update(weights_derivative, bias_derivative)\n",
    "\n",
    "            if self.verbose and (epoch % self.log_every == 0 or epoch == self.number_of_epochs - 1):\n",
    "                print(f\"Epoch {epoch:<5} | Loss: {current_loss:.5f} | Weights Norm: {np.linalg.norm(self.weights):.5f}\")\n",
    "        \n",
    "        self.final_loss = current_loss\n",
    "        return self\n",
    "\n",
    "    \n",
    "    def predict_probability(self, X):\n",
    "        \"\"\"Predict probabilities for input samples.\"\"\"\n",
    "        z = X @ self.weights + self.bias\n",
    "        return self._sigmoid(z)\n",
    "\n",
    "    \n",
    "    def predict(self, X):\n",
    "        \"\"\"Predict class labels (0 or 1).\"\"\"\n",
    "        probabilities = self.predict_probability(X)\n",
    "        return (probabilities >= 0.5).astype(int)\n",
    "\n",
    "    \n",
    "    def plot_losses(self, ax=None):\n",
    "        \"\"\"Plot losses over epochs.\"\"\"\n",
    "        if ax is None:\n",
    "            ax = plt.gca()\n",
    "        ax.plot(self.loss_history, label=f'Final loss: {self.final_loss:.2f}')\n",
    "        ax.set_xlabel('Epochs', fontsize=12)\n",
    "        ax.set_ylabel('Loss', fontsize=12)\n",
    "        ax.set_title('Training Loss Over Epochs')\n",
    "        ax.legend()\n",
    "        ax.grid(alpha=0.5)"
   ]
  },
  {
   "cell_type": "markdown",
   "metadata": {},
   "source": [
    "# <center> Testing the model </center>\n",
    "\n",
    "  <div class=\"note-card\">\n",
    "    <div style=\"margin-bottom: 1.8em;\">\n",
    "      <h3>Testing Methodology</h3>\n",
    "        <p>We will be using sklearn's <strong>Logistic Regression</strong> to compare with our custom class</p>\n",
    "    </div>"
   ]
  },
  {
   "cell_type": "markdown",
   "metadata": {},
   "source": [
    "## 1. Generate synthetic data"
   ]
  },
  {
   "cell_type": "code",
   "execution_count": 39,
   "metadata": {
    "execution": {
     "iopub.execute_input": "2025-08-02T02:48:17.834156Z",
     "iopub.status.busy": "2025-08-02T02:48:17.833908Z",
     "iopub.status.idle": "2025-08-02T02:48:17.888407Z",
     "shell.execute_reply": "2025-08-02T02:48:17.887482Z",
     "shell.execute_reply.started": "2025-08-02T02:48:17.834130Z"
    },
    "trusted": true
   },
   "outputs": [],
   "source": [
    "from sklearn.datasets import make_classification\n",
    "\n",
    "features_synthetic, target_synthetic = make_classification(n_samples=30000,\n",
    "                                                           n_features=15,  \n",
    "                                                           n_informative=10,\n",
    "                                                           n_classes=2,\n",
    "                                                           random_state=42,\n",
    "                                                           shift=5)"
   ]
  },
  {
   "cell_type": "markdown",
   "metadata": {},
   "source": [
    "## 2. Split the data"
   ]
  },
  {
   "cell_type": "code",
   "execution_count": 40,
   "metadata": {
    "execution": {
     "iopub.execute_input": "2025-08-02T02:48:17.891699Z",
     "iopub.status.busy": "2025-08-02T02:48:17.891406Z",
     "iopub.status.idle": "2025-08-02T02:48:17.901191Z",
     "shell.execute_reply": "2025-08-02T02:48:17.900029Z",
     "shell.execute_reply.started": "2025-08-02T02:48:17.891676Z"
    },
    "trusted": true
   },
   "outputs": [],
   "source": [
    "from sklearn.model_selection import train_test_split\n",
    "\n",
    "X_train, X_test, y_train, y_test = train_test_split(features_synthetic,\n",
    "                                                    target_synthetic,\n",
    "                                                    test_size=0.3,\n",
    "                                                    shuffle=True,\n",
    "                                                    random_state=42)"
   ]
  },
  {
   "cell_type": "markdown",
   "metadata": {},
   "source": [
    "## 3. Initialize the models"
   ]
  },
  {
   "cell_type": "code",
   "execution_count": 41,
   "metadata": {
    "execution": {
     "iopub.execute_input": "2025-08-02T02:48:17.902439Z",
     "iopub.status.busy": "2025-08-02T02:48:17.902128Z",
     "iopub.status.idle": "2025-08-02T02:48:18.870198Z",
     "shell.execute_reply": "2025-08-02T02:48:18.869412Z",
     "shell.execute_reply.started": "2025-08-02T02:48:17.902414Z"
    },
    "trusted": true
   },
   "outputs": [],
   "source": [
    "from sklearn.linear_model import LogisticRegression\n",
    "\n",
    "sklearn_log_reg = LogisticRegression().fit(X_train, y_train)\n",
    "custom_log_reg = CustomLogisticRegression(verbose=False,number_of_epochs=1000, learning_rate=0.01).fit(X_train, y_train)"
   ]
  },
  {
   "cell_type": "markdown",
   "metadata": {},
   "source": [
    "## 4. Plot losses of the custom model"
   ]
  },
  {
   "cell_type": "code",
   "execution_count": 42,
   "metadata": {
    "execution": {
     "iopub.execute_input": "2025-08-02T02:48:18.871416Z",
     "iopub.status.busy": "2025-08-02T02:48:18.871125Z",
     "iopub.status.idle": "2025-08-02T02:48:19.119578Z",
     "shell.execute_reply": "2025-08-02T02:48:19.118785Z",
     "shell.execute_reply.started": "2025-08-02T02:48:18.871390Z"
    },
    "trusted": true
   },
   "outputs": [
    {
     "data": {
      "image/png": "[encoded data removed]",
      "text/plain": [
       "<Figure size 1600x500 with 1 Axes>"
      ]
     },
     "metadata": {},
     "output_type": "display_data"
    }
   ],
   "source": [
    "figure, axes = plt.subplots(nrows=1, ncols=1, figsize=(16, 5))\n",
    "\n",
    "custom_log_reg.plot_losses(ax=axes)"
   ]
  },
  {
   "cell_type": "markdown",
   "metadata": {},
   "source": [
    "## 5. Predict with the models"
   ]
  },
  {
   "cell_type": "code",
   "execution_count": 43,
   "metadata": {
    "execution": {
     "iopub.execute_input": "2025-08-02T02:48:19.120937Z",
     "iopub.status.busy": "2025-08-02T02:48:19.120604Z",
     "iopub.status.idle": "2025-08-02T02:48:19.127684Z",
     "shell.execute_reply": "2025-08-02T02:48:19.126870Z",
     "shell.execute_reply.started": "2025-08-02T02:48:19.120910Z"
    },
    "trusted": true
   },
   "outputs": [],
   "source": [
    "custom_predictions = custom_log_reg.predict(X_test)\n",
    "custom_probabilities = custom_log_reg.predict_probability(X_test)\n",
    "\n",
    "sklearn_predictions = sklearn_log_reg.predict(X_test)\n",
    "sklearn_probabilities = sklearn_log_reg.predict_proba(X_test)"
   ]
  },
  {
   "cell_type": "markdown",
   "metadata": {},
   "source": [
    "## 6. Compare scores"
   ]
  },
  {
   "cell_type": "code",
   "execution_count": 45,
   "metadata": {
    "execution": {
     "iopub.execute_input": "2025-08-02T02:48:52.991343Z",
     "iopub.status.busy": "2025-08-02T02:48:52.991026Z",
     "iopub.status.idle": "2025-08-02T02:48:53.054587Z",
     "shell.execute_reply": "2025-08-02T02:48:53.053794Z",
     "shell.execute_reply.started": "2025-08-02T02:48:52.991321Z"
    },
    "trusted": true
   },
   "outputs": [
    {
     "data": {
      "text/html": [
       "<div>\n",
       "<style scoped>\n",
       "    .dataframe tbody tr th:only-of-type {\n",
       "        vertical-align: middle;\n",
       "    }\n",
       "\n",
       "    .dataframe tbody tr th {\n",
       "        vertical-align: top;\n",
       "    }\n",
       "\n",
       "    .dataframe thead th {\n",
       "        text-align: right;\n",
       "    }\n",
       "</style>\n",
       "<table border=\"1\" class=\"dataframe\">\n",
       "  <thead>\n",
       "    <tr style=\"text-align: right;\">\n",
       "      <th></th>\n",
       "      <th>Custom Model</th>\n",
       "      <th>Sklearn Model</th>\n",
       "    </tr>\n",
       "  </thead>\n",
       "  <tbody>\n",
       "    <tr>\n",
       "      <th>Accuracy</th>\n",
       "      <td>0.81</td>\n",
       "      <td>0.81</td>\n",
       "    </tr>\n",
       "    <tr>\n",
       "      <th>Recall</th>\n",
       "      <td>0.80</td>\n",
       "      <td>0.80</td>\n",
       "    </tr>\n",
       "    <tr>\n",
       "      <th>Precision</th>\n",
       "      <td>0.81</td>\n",
       "      <td>0.81</td>\n",
       "    </tr>\n",
       "    <tr>\n",
       "      <th>F1 Score</th>\n",
       "      <td>0.81</td>\n",
       "      <td>0.80</td>\n",
       "    </tr>\n",
       "  </tbody>\n",
       "</table>\n",
       "</div>"
      ],
      "text/plain": [
       "           Custom Model  Sklearn Model\n",
       "Accuracy           0.81           0.81\n",
       "Recall             0.80           0.80\n",
       "Precision          0.81           0.81\n",
       "F1 Score           0.81           0.80"
      ]
     },
     "execution_count": 45,
     "metadata": {},
     "output_type": "execute_result"
    }
   ],
   "source": [
    "from sklearn.metrics import accuracy_score, recall_score, precision_score, f1_score\n",
    "\n",
    "custom_accuracy = accuracy_score(y_test, custom_predictions)\n",
    "sklearn_accuracy = accuracy_score(y_test, sklearn_predictions)\n",
    "\n",
    "custom_recall = recall_score(y_test, custom_predictions)\n",
    "sklearn_recall = recall_score(y_test, sklearn_predictions)\n",
    "\n",
    "custom_precision = precision_score(y_test, custom_predictions)\n",
    "sklearn_precision = precision_score(y_test, sklearn_predictions)\n",
    "\n",
    "custom_f1 = f1_score(y_test, custom_predictions)\n",
    "sklearn_f1 = f1_score(y_test, sklearn_predictions)\n",
    "\n",
    "# turn the scores into a dataframe\n",
    "results_df = pd.DataFrame(index=[\"Accuracy\", \"Recall\", \"Precision\", \"F1 Score\"], data={\n",
    "    \"Custom Model\": [custom_accuracy, custom_recall, custom_precision, custom_f1],\n",
    "    \"Sklearn Model\": [sklearn_accuracy, sklearn_recall, sklearn_precision, sklearn_f1]\n",
    "}).round(2)\n",
    "\n",
    "results_df"
   ]
  },
  {
   "cell_type": "code",
   "execution_count": 46,
   "metadata": {
    "execution": {
     "iopub.execute_input": "2025-08-02T02:48:58.796513Z",
     "iopub.status.busy": "2025-08-02T02:48:58.796098Z",
     "iopub.status.idle": "2025-08-02T02:48:59.448298Z",
     "shell.execute_reply": "2025-08-02T02:48:59.447276Z",
     "shell.execute_reply.started": "2025-08-02T02:48:58.796489Z"
    },
    "trusted": true
   },
   "outputs": [
    {
     "data": {
      "image/png": "[encoded data removed]",
      "text/plain": [
       "<Figure size 1400x500 with 4 Axes>"
      ]
     },
     "metadata": {},
     "output_type": "display_data"
    }
   ],
   "source": [
    "# Set up a 1x4 grid\n",
    "fig, axes = plt.subplots(1, 4, figsize=(14,5))\n",
    "\n",
    "# Iterate over metrics\n",
    "for ax, metric in zip(axes, results_df.index):\n",
    "    sns.barplot(x=results_df.columns, y=results_df.loc[metric], ax=ax)\n",
    "    \n",
    "    # Annotate values\n",
    "    for i, v in enumerate(results_df.loc[metric]):\n",
    "        ax.text(i, v + 0.02, f\"{v:.2f}\", ha='center', va='bottom', fontsize=10)\n",
    "\n",
    "    ax.set_title(metric)\n",
    "    ax.set_ylim(0, 1)  # since metrics are between 0 and 1\n",
    "\n",
    "plt.suptitle(\"Custom Model vs Sklearn Model Performance\", fontsize=16)\n",
    "plt.tight_layout()"
   ]
  },
  {
   "cell_type": "markdown",
   "metadata": {},
   "source": [
    "# Conclusion\n",
    "<div class=\"notes-container\">\n",
    "  <div class=\"note-card\">\n",
    "            <center>\n",
    "        <h3>We see here that our all of our scores are quite similar to the sklearn implementation of Logistic Regression</h3>\n",
    "            </center>\n",
    "\n",
    "</div>"
   ]
  }
 ],
 "metadata": {
  "kaggle": {
   "accelerator": "none",
   "dataSources": [],
   "dockerImageVersionId": 31089,
   "isGpuEnabled": false,
   "isInternetEnabled": true,
   "language": "python",
   "sourceType": "notebook"
  },
  "kernelspec": {
   "display_name": "t2",
   "language": "python",
   "name": "python3"
  },
  "language_info": {
   "codemirror_mode": {
    "name": "ipython",
    "version": 3
   },
   "file_extension": ".py",
   "mimetype": "text/x-python",
   "name": "python",
   "nbconvert_exporter": "python",
   "pygments_lexer": "ipython3",
   "version": "3.13.2"
  }
 },
 "nbformat": 4,
 "nbformat_minor": 4
}
